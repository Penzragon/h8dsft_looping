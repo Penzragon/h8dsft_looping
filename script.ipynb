{
 "cells": [
  {
   "cell_type": "markdown",
   "metadata": {},
   "source": [
    "# Hacktiv8 Non Graded Challenge 1\n",
    "\n",
    "---\n",
    "\n",
    "**numbers = [951, 402, 984, 651, 360, 69, 408,\n",
    "319, 601, 485, 980, 507, 725, 547, 544, 615,\n",
    "83, 165, 141, 501, 263, 617, 865, 575, 219,\n",
    "390, 984, 592, 236, 105, 942, 941, 386, 462,\n",
    "47, 418, 907, 344, 236, 375, 823, 566, 597,\n",
    "978, 328, 615, 953, 345, 399, 162, 758, 219,\n",
    "918, 237, 412, 566, 826, 248, 866, 950, 626,\n",
    "949]**\n",
    "\n",
    "Instruction:\n",
    "\n",
    "- Loop dan print semua angka genap dari list angka diatas dengan urutan yang sama.\n",
    "- Jangan mencetak angka apapun yang muncul setelah angka 918 berdasarkan posisi angka tersebut pada list diatas.\n",
    "- Tampilkan pesan ”Done” setelah looping berakhir."
   ]
  },
  {
   "cell_type": "code",
   "execution_count": 1,
   "metadata": {},
   "outputs": [],
   "source": [
    "numbers = [951, 402, 984, 651, 360, 69, 408,\n",
    "319, 601, 485, 980, 507, 725, 547, 544, 615,\n",
    "83, 165, 141, 501, 263, 617, 865, 575, 219,\n",
    "390, 984, 592, 236, 105, 942, 941, 386, 462,\n",
    "47, 418, 907, 344, 236, 375, 823, 566, 597,\n",
    "978, 328, 615, 953, 345, 399, 162, 758, 219,\n",
    "918, 237, 412, 566, 826, 248, 866, 950, 626,\n",
    "949]"
   ]
  },
  {
   "cell_type": "code",
   "execution_count": 2,
   "metadata": {},
   "outputs": [
    {
     "name": "stdout",
     "output_type": "stream",
     "text": [
      "402\n",
      "984\n",
      "360\n",
      "408\n",
      "980\n",
      "544\n",
      "390\n",
      "984\n",
      "592\n",
      "236\n",
      "942\n",
      "386\n",
      "462\n",
      "418\n",
      "344\n",
      "236\n",
      "566\n",
      "978\n",
      "328\n",
      "162\n",
      "758\n",
      "918\n",
      "Done\n"
     ]
    }
   ],
   "source": [
    "for i in range(len(numbers)):\n",
    "    if numbers[i] % 2 == 0 and i <= numbers.index(918):\n",
    "        print(numbers[i])\n",
    "print(\"Done\")"
   ]
  }
 ],
 "metadata": {
  "interpreter": {
   "hash": "aa9e1a1d5fc59c64a36ca54f7d8a22385cd9af1c34966b28ec5cc3b7d8afa19f"
  },
  "kernelspec": {
   "display_name": "Python 3.9.1 64-bit",
   "language": "python",
   "name": "python3"
  },
  "language_info": {
   "codemirror_mode": {
    "name": "ipython",
    "version": 3
   },
   "file_extension": ".py",
   "mimetype": "text/x-python",
   "name": "python",
   "nbconvert_exporter": "python",
   "pygments_lexer": "ipython3",
   "version": "3.9.1"
  },
  "orig_nbformat": 4
 },
 "nbformat": 4,
 "nbformat_minor": 2
}
